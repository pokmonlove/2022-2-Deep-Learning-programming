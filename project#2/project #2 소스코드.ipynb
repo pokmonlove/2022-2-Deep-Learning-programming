{
 "cells": [
  {
   "cell_type": "markdown",
   "metadata": {},
   "source": [
    "# 4 신경망 학습\n"
   ]
  },
  {
   "cell_type": "markdown",
   "metadata": {},
   "source": [
    "## 4.2 손실 함수\n"
   ]
  },
  {
   "cell_type": "markdown",
   "metadata": {},
   "source": [
    "### 4.2.1 평균 제곱 오차"
   ]
  },
  {
   "cell_type": "code",
   "execution_count": 116,
   "metadata": {},
   "outputs": [],
   "source": [
    "def mean_squared_error(y, t):\n",
    "    return 0.5 * np.sum((y-t)**2)"
   ]
  },
  {
   "cell_type": "code",
   "execution_count": 117,
   "metadata": {},
   "outputs": [],
   "source": [
    "t = [0, 0, 1, 0, 0, 0, 0, 0, 0, 0] \n",
    "y = [0.1, 0.05, 0.6, 0.0, 0.05, 0.1, 0.0, 0.1, 0.0, 0.0]"
   ]
  },
  {
   "cell_type": "code",
   "execution_count": 118,
   "metadata": {},
   "outputs": [
    {
     "data": {
      "text/plain": [
       "0.09750000000000003"
      ]
     },
     "execution_count": 118,
     "metadata": {},
     "output_type": "execute_result"
    }
   ],
   "source": [
    "import numpy as np\n",
    "# 예1: '2'일 확률이 가장 높다고 추정 (0.6)\n",
    "y1 = [0.1, 0.05, 0.6, 0.0, 0.05, 0.1, 0.0, 0.1, 0.0, 0.0]\n",
    "mean_squared_error(np.array(y1), np.array(t))"
   ]
  },
  {
   "cell_type": "code",
   "execution_count": 119,
   "metadata": {},
   "outputs": [
    {
     "data": {
      "text/plain": [
       "0.5975"
      ]
     },
     "execution_count": 119,
     "metadata": {},
     "output_type": "execute_result"
    }
   ],
   "source": [
    "# 예2:'7'일 확률이 가장 높다고 추정 (0.6)\n",
    "y2 = [0.1, 0.05, 0.1, 0.0, 0.05, 0.1, 0.0, 0.6, 0.0, 0.0]\n",
    "mean_squared_error(np.array(y2), np.array(t))"
   ]
  },
  {
   "cell_type": "markdown",
   "metadata": {},
   "source": [
    "### 4.2.2 교차 엔트로피 오차"
   ]
  },
  {
   "cell_type": "code",
   "execution_count": 120,
   "metadata": {},
   "outputs": [],
   "source": [
    "def cross_entropy_error(y, t):  #자연로그\n",
    "    delta = 1e-7\n",
    "    return -np.sum(t * np.log(y + delta)) #y가 0이 되지 않도록 delta를 더하였음"
   ]
  },
  {
   "cell_type": "code",
   "execution_count": 121,
   "metadata": {},
   "outputs": [
    {
     "data": {
      "text/plain": [
       "0.510825457099338"
      ]
     },
     "execution_count": 121,
     "metadata": {},
     "output_type": "execute_result"
    }
   ],
   "source": [
    "t = [0, 0, 1, 0, 0, 0, 0, 0, 0, 0]\n",
    "y1 = [0.1, 0.05, 0.6, 0.0, 0.05, 0.1, 0.0, 0.1, 0.0, 0.0]\n",
    "cross_entropy_error(np.array(y1), np.array(t))"
   ]
  },
  {
   "cell_type": "code",
   "execution_count": 122,
   "metadata": {},
   "outputs": [
    {
     "data": {
      "text/plain": [
       "2.302584092994546"
      ]
     },
     "execution_count": 122,
     "metadata": {},
     "output_type": "execute_result"
    }
   ],
   "source": [
    "y2 = [0.1, 0.05, 0.1, 0.0, 0.05, 0.1, 0.0, 0.6, 0.0, 0.0]\n",
    "cross_entropy_error(np.array(y2), np.array(t))"
   ]
  },
  {
   "cell_type": "markdown",
   "metadata": {},
   "source": [
    "### 4.2.3 미니배치 학습"
   ]
  },
  {
   "cell_type": "markdown",
   "metadata": {
    "collapsed": true
   },
   "source": [
    "미니배치: 훈련 데이터로부터 일부만 골라 학습 수행\n",
    "\n",
    "미니배치 학습: 60000장의 훈련 데이터 중 100장을 무작위로 뽑아 그 100장을 사용해 학습함"
   ]
  },
  {
   "cell_type": "code",
   "execution_count": 123,
   "metadata": {},
   "outputs": [
    {
     "name": "stdout",
     "output_type": "stream",
     "text": [
      "(60000, 784)\n",
      "(60000, 10)\n"
     ]
    }
   ],
   "source": [
    "import sys, os\n",
    "sys.path.append(os.pardir)\n",
    "import numpy as np\n",
    "from dataset.mnist import load_mnist\n",
    "\n",
    "#load_mnist 함수로 MNIST (훈련 데이터와 시험 데이터) 데이터셋을 읽음.\n",
    "(x_train, t_train), (x_test, t_test) = load_mnist(normalize=True, one_hot_label=True)\n",
    "\n",
    "print(x_train.shape) # (60000, 784)\n",
    "print(t_train.shape) # (60000, 10)"
   ]
  },
  {
   "cell_type": "code",
   "execution_count": 124,
   "metadata": {},
   "outputs": [],
   "source": [
    "train_size = x_train.shape[0]   #60000개\n",
    "batch_size = 10                 #10개\n",
    "\n",
    "batch_mask = np.random.choice(train_size, batch_size) #batch_mask: 훈련 데이터에서 무작위로 10장만 빼내기\n",
    "x_batch = x_train[batch_mask]\n",
    "t_batch = t_train[batch_mask]"
   ]
  },
  {
   "cell_type": "code",
   "execution_count": 125,
   "metadata": {},
   "outputs": [
    {
     "data": {
      "text/plain": [
       "array([  571, 57589, 53466, 18702, 45039, 10182,   954, 46612, 58991,\n",
       "        2834])"
      ]
     },
     "execution_count": 125,
     "metadata": {},
     "output_type": "execute_result"
    }
   ],
   "source": [
    "#0에서 60000 미만의 수 중에서 무작위로 10개 뽑기\n",
    "np.random.choice(60000, 10)"
   ]
  },
  {
   "cell_type": "markdown",
   "metadata": {},
   "source": [
    "### 4.2.4 (배치용) 교차 엔트로피 오차 구현하기"
   ]
  },
  {
   "cell_type": "code",
   "execution_count": 126,
   "metadata": {},
   "outputs": [],
   "source": [
    "def cross_entropy_error(y, t):    #y는 신경망의 출력, t는 정답 레이블\n",
    "    if y.ndim == 1:\n",
    "        t = t.reshape(1, t.size)\n",
    "        y = y.reshape(1, y.size)\n",
    "        \n",
    "    batch_size = y.shape[0]\n",
    "    return -np.sum(t * np.log(y)) / batch_size"
   ]
  },
  {
   "cell_type": "code",
   "execution_count": 127,
   "metadata": {},
   "outputs": [],
   "source": [
    "def cross_entropy_error(y, t):\n",
    "    if y.ndim == 1:\n",
    "        t = t.reshape(1, t.size)\n",
    "        y = y.reshape(1, y.size)\n",
    "        \n",
    "    batch_size = y.shape[0]\n",
    "    return -np.sum(np.log(y[np.arange(batch_size), t])) / batch_size  #t * np.log(y) 부분 구현"
   ]
  },
  {
   "cell_type": "markdown",
   "metadata": {},
   "source": [
    "## 4.3 수치미분"
   ]
  },
  {
   "cell_type": "markdown",
   "metadata": {},
   "source": [
    "### 4.3.1 미분"
   ]
  },
  {
   "cell_type": "code",
   "execution_count": 128,
   "metadata": {},
   "outputs": [],
   "source": [
    "# 수치 미분: 아주 작은 차분으로 미분을 구하는 것\n",
    "# 구간을 좀 더 넓힘으로써 차이가 좀 커져 값이 비교적 명확하게 나온다\n",
    "# 앞으로 접선의 기울기는 이 식으로 구하기로 한다\n",
    "\n",
    "# 개선된 수치미분 구현 (오차를 줄인)\n",
    "def numerical_diff(f,x):\n",
    "    h = 1e-4   #0.00001\n",
    "    return (f(x + h) - f(x - h)) / (2*h)"
   ]
  },
  {
   "cell_type": "markdown",
   "metadata": {},
   "source": [
    "### 4.3.2 수치 미분의 예"
   ]
  },
  {
   "cell_type": "code",
   "execution_count": 129,
   "metadata": {},
   "outputs": [
    {
     "data": {
      "image/png": "[encoded data removed]",
      "text/plain": [
       "<Figure size 432x288 with 1 Axes>"
      ]
     },
     "metadata": {
      "needs_background": "light"
     },
     "output_type": "display_data"
    }
   ],
   "source": [
    "# 식 4.5: f(x)=0.01x**2 + 0.1x 그래프\n",
    "import numpy as np\n",
    "import matplotlib.pylab as plt\n",
    "\n",
    "def function_1(x):\n",
    "    return 0.01*x**2 + 0.1*x\n",
    "\n",
    "x = np.arange(0.0, 20.0, 0.1) # 0에서 20까지 0.1 간격의 배열 x 생성\n",
    "y = function_1(x)\n",
    "plt.xlabel(\"x\")\n",
    "plt.ylabel(\"f(x)\")\n",
    "plt.plot(x,y)\n",
    "plt.show()"
   ]
  },
  {
   "cell_type": "markdown",
   "metadata": {},
   "source": [
    "x = 5, 10일때 미분 계산"
   ]
  },
  {
   "cell_type": "code",
   "execution_count": 130,
   "metadata": {},
   "outputs": [
    {
     "data": {
      "text/plain": [
       "0.1999999999990898"
      ]
     },
     "execution_count": 130,
     "metadata": {},
     "output_type": "execute_result"
    }
   ],
   "source": [
    "numerical_diff(function_1, 5)"
   ]
  },
  {
   "cell_type": "code",
   "execution_count": 131,
   "metadata": {},
   "outputs": [
    {
     "data": {
      "text/plain": [
       "0.2999999999986347"
      ]
     },
     "execution_count": 131,
     "metadata": {},
     "output_type": "execute_result"
    }
   ],
   "source": [
    "numerical_diff(function_1, 10)"
   ]
  },
  {
   "cell_type": "markdown",
   "metadata": {},
   "source": [
    "### 4.3.3 편미분\n",
    "변수가 2개 이상인 식"
   ]
  },
  {
   "cell_type": "code",
   "execution_count": 132,
   "metadata": {},
   "outputs": [],
   "source": [
    "# 편미분 구현 \n",
    "def function_2(x):\n",
    "    return x[0]**2 + x[1]**2     #numpy 배열을 제곱하여 더하는 방법\n",
    "    # 또는 return np.sum(x**2)   #각각의 항들을 제곱하고 각항들을 더하는 방법"
   ]
  },
  {
   "cell_type": "markdown",
   "metadata": {},
   "source": [
    "문제 1) x0=3, x1=4일 때 x0에 대한 편미분을 구하라"
   ]
  },
  {
   "cell_type": "code",
   "execution_count": 133,
   "metadata": {},
   "outputs": [
    {
     "data": {
      "text/plain": [
       "6.00000000000378"
      ]
     },
     "execution_count": 133,
     "metadata": {},
     "output_type": "execute_result"
    }
   ],
   "source": [
    "def function_tmp1(x0):\n",
    "    return x0*x0 + 4.0**2.0\n",
    "\n",
    "numerical_diff(function_tmp1, 3.0)"
   ]
  },
  {
   "cell_type": "markdown",
   "metadata": {},
   "source": [
    "문제 2) x0=3, x1=4일 때 x1에 대한 편미분을 구하라"
   ]
  },
  {
   "cell_type": "code",
   "execution_count": 134,
   "metadata": {},
   "outputs": [
    {
     "data": {
      "text/plain": [
       "7.999999999999119"
      ]
     },
     "execution_count": 134,
     "metadata": {},
     "output_type": "execute_result"
    }
   ],
   "source": [
    "def function_tmp2(x1):\n",
    "    return 3.0**2.0 + x1*x1\n",
    "\n",
    "numerical_diff(function_tmp2, 4.0)"
   ]
  },
  {
   "cell_type": "markdown",
   "metadata": {},
   "source": [
    "## 4.4 기울기\n",
    "기울기: 모든 변수의 편미분을 벡터로 정리한 것."
   ]
  },
  {
   "cell_type": "code",
   "execution_count": 135,
   "metadata": {},
   "outputs": [],
   "source": [
    "# 편미분 기울기 구현 \n",
    "def _numerical_gradient_no_batch(f, x):\n",
    "    h = 1e-4 # 0.0001\n",
    "    grad = np.zeros_like(x)       # x와 형상이 같고 그 원소가 모두 0인 배열 생성\n",
    "    \n",
    "    for idx in range(x.size):\n",
    "        tmp_val = x[idx]\n",
    "        \n",
    "        # f(x+h) 계산\n",
    "        x[idx] = float(tmp_val) + h\n",
    "        fxh1 = f(x)\n",
    "        \n",
    "        # f(x-h) 계산\n",
    "        x[idx] = tmp_val - h \n",
    "        fxh2 = f(x) \n",
    "        \n",
    "        grad[idx] = (fxh1 - fxh2) / (2*h)\n",
    "        x[idx] = tmp_val # 값 복원\n",
    "        \n",
    "    return grad"
   ]
  },
  {
   "cell_type": "markdown",
   "metadata": {},
   "source": [
    "위 함수를 이용하여 세 점 (3,4), (0.2), (3,0)에서 기울기 구하기"
   ]
  },
  {
   "cell_type": "code",
   "execution_count": 136,
   "metadata": {},
   "outputs": [
    {
     "data": {
      "text/plain": [
       "array([6., 8.])"
      ]
     },
     "execution_count": 136,
     "metadata": {},
     "output_type": "execute_result"
    }
   ],
   "source": [
    "_numerical_gradient_no_batch(function_2, np.array([3.0, 4.0]))"
   ]
  },
  {
   "cell_type": "code",
   "execution_count": 137,
   "metadata": {},
   "outputs": [
    {
     "data": {
      "text/plain": [
       "array([0., 4.])"
      ]
     },
     "execution_count": 137,
     "metadata": {},
     "output_type": "execute_result"
    }
   ],
   "source": [
    "_numerical_gradient_no_batch(function_2, np.array([0.0, 2.0]))"
   ]
  },
  {
   "cell_type": "code",
   "execution_count": 138,
   "metadata": {},
   "outputs": [
    {
     "data": {
      "text/plain": [
       "array([6., 0.])"
      ]
     },
     "execution_count": 138,
     "metadata": {},
     "output_type": "execute_result"
    }
   ],
   "source": [
    "_numerical_gradient_no_batch(function_2, np.array([3.0, 0.0]))"
   ]
  },
  {
   "cell_type": "code",
   "execution_count": 139,
   "metadata": {},
   "outputs": [
    {
     "name": "stderr",
     "output_type": "stream",
     "text": [
      "No handles with labels found to put in legend.\n"
     ]
    },
    {
     "data": {
      "image/png": "[encoded data removed]",
      "text/plain": [
       "<Figure size 432x288 with 1 Axes>"
      ]
     },
     "metadata": {
      "needs_background": "light"
     },
     "output_type": "display_data"
    }
   ],
   "source": [
    "# 교재 소스 코드: gradient_2d.py\n",
    "# 그림 4-9 f(x0, x1) = x0**2 + x1**2 의 기울기\n",
    "# 기울기의 결과에 마이너스를 붙인 벡터 그리기\n",
    "\n",
    "from mpl_toolkits.mplot3d import Axes3D\n",
    "\n",
    "def numerical_gradient(f, X):\n",
    "    if X.ndim == 1:\n",
    "        return _numerical_gradient_no_batch(f, X)\n",
    "    else:\n",
    "        grad = np.zeros_like(X)\n",
    "        \n",
    "        for idx, x in enumerate(X):\n",
    "            grad[idx] = _numerical_gradient_no_batch(f, x)\n",
    "        \n",
    "        return grad\n",
    "\n",
    "\n",
    "def function_2(x):\n",
    "    if x.ndim == 1:\n",
    "        return np.sum(x**2)\n",
    "    else:\n",
    "        return np.sum(x**2, axis=1)\n",
    "\n",
    "\n",
    "def tangent_line(f, x):\n",
    "    d = numerical_gradient(f, x)\n",
    "    print(d)\n",
    "    y = f(x) - d*x\n",
    "    return lambda t: d*t + y\n",
    "     \n",
    "x0 = np.arange(-2, 2.5, 0.25)\n",
    "x1 = np.arange(-2, 2.5, 0.25)\n",
    "X, Y = np.meshgrid(x0, x1)\n",
    "    \n",
    "X = X.flatten()\n",
    "Y = Y.flatten()\n",
    "    \n",
    "grad = numerical_gradient(function_2, np.array([X, Y]) ) #모든 x, y 전체에서 구한다\n",
    "    \n",
    "plt.figure()\n",
    "# 기울기에 마이너스 붙이는 부분 (방향으로 최솟값 가리킴)\n",
    "plt.quiver(X, Y, -grad[0], -grad[1],  angles=\"xy\",color=\"#666666\")#,headwidth=10,scale=40,color=\"#444444\")\n",
    "plt.xlim([-2, 2])\n",
    "plt.ylim([-2, 2])\n",
    "plt.xlabel('x0')\n",
    "plt.ylabel('x1')\n",
    "plt.grid()\n",
    "plt.legend()\n",
    "plt.draw()\n",
    "plt.show()"
   ]
  },
  {
   "cell_type": "markdown",
   "metadata": {
    "collapsed": true
   },
   "source": [
    "### 4.4.1 경사법(경사 하강법)\n",
    "\n",
    "경사 하강법 구현코드"
   ]
  },
  {
   "cell_type": "code",
   "execution_count": 140,
   "metadata": {},
   "outputs": [],
   "source": [
    "def gradient_descent(f, init_x, lr=0.01, step_num=100):  \n",
    "    #f: 최적화하려는 함수, init_x: 초기값, lr: learning rate, step_num: 갱신 반복 회수\n",
    "    x = init_x\n",
    "    \n",
    "    for i in range(step_num):           # 기울기에 학습률을 곱한 값으로 갱신 - step_num번 반복\n",
    "        grad = numerical_gradient(f, x) # 함수의 기울기를 구하는 함수 \n",
    "        x -= lr * grad                  # 마이너스 방향으로 가야 하므로 에타 값 빼기\n",
    "    return x "
   ]
  },
  {
   "cell_type": "markdown",
   "metadata": {},
   "source": [
    "문제: 경사법으로 f(x0,x1) = x0 \\*\\* 2 + x1 \\*\\* 2의 최소값을 구하라"
   ]
  },
  {
   "cell_type": "code",
   "execution_count": 141,
   "metadata": {},
   "outputs": [
    {
     "data": {
      "text/plain": [
       "array([-6.11110793e-10,  8.14814391e-10])"
      ]
     },
     "execution_count": 141,
     "metadata": {},
     "output_type": "execute_result"
    }
   ],
   "source": [
    "init_x = np.array([-3.0, 4.0])\n",
    "gradient_descent(function_2, init_x=init_x, lr=0.1, step_num=100)"
   ]
  },
  {
   "cell_type": "markdown",
   "metadata": {},
   "source": []
  },
  {
   "cell_type": "code",
   "execution_count": 42,
   "metadata": {},
   "outputs": [
    {
     "data": {
      "image/png": "[encoded data removed]",
      "text/plain": [
       "<Figure size 432x288 with 1 Axes>"
      ]
     },
     "metadata": {
      "needs_background": "light"
     },
     "output_type": "display_data"
    }
   ],
   "source": [
    "# 교재 소스 코드: gradient_method.py \n",
    "# 경사법을 이용한 갱신 과정 그래프\n",
    "# 그림 4-10 f(x0, x1) = x0**2 + x1**2 의 갱신 과정 : 점선은 함수의 등고선을 나타낸다.\n",
    "\n",
    "def gradient_descent(f, init_x, lr=0.01, step_num=100):\n",
    "    x = init_x\n",
    "    x_history = []\n",
    "\n",
    "    for i in range(step_num):\n",
    "        x_history.append( x.copy() )\n",
    "\n",
    "        grad = numerical_gradient(f, x)\n",
    "        x -= lr * grad\n",
    "\n",
    "    return x, np.array(x_history)\n",
    "\n",
    "init_x = np.array([-3.0, 4.0])    #초기값 (-3.0, 4.0)으로 설정 후 경사법을 사용해 최소값 구하기\n",
    "\n",
    "lr = 0.1\n",
    "step_num = 20\n",
    "x, x_history = gradient_descent(function_2, init_x, lr=lr, step_num=step_num)\n",
    "\n",
    "plt.plot( [-5, 5], [0,0], '--b')\n",
    "plt.plot( [0,0], [-5, 5], '--b')\n",
    "plt.plot(x_history[:,0], x_history[:,1], 'o')\n",
    "\n",
    "plt.xlim(-3.5, 3.5)\n",
    "plt.ylim(-4.5, 4.5)\n",
    "plt.xlabel(\"X0\")\n",
    "plt.ylabel(\"X1\")\n",
    "plt.show()"
   ]
  },
  {
   "cell_type": "code",
   "execution_count": 142,
   "metadata": {},
   "outputs": [],
   "source": [
    "# 학습률 크기에 따른 결과 비교 (Ir값 조작)\n",
    "def gradient_descent(f, init_x, lr=0.01, step_num=100):\n",
    "    x = init_x\n",
    "    \n",
    "    for i in range(step_num):\n",
    "        grad = numerical_gradient(f, x)\n",
    "        x -= lr * grad\n",
    "    return x"
   ]
  },
  {
   "cell_type": "code",
   "execution_count": 143,
   "metadata": {},
   "outputs": [
    {
     "data": {
      "text/plain": [
       "array([-2.58983747e+13, -1.29524862e+12])"
      ]
     },
     "execution_count": 143,
     "metadata": {},
     "output_type": "execute_result"
    }
   ],
   "source": [
    "# 학습률이 너무 큰 예 : lr=10 : 너무 큰 값으로 발산\n",
    "init_x = np.array([-3.0, 4.0])\n",
    "gradient_descent(function_2, init_x=init_x, lr=10.0, step_num=100)"
   ]
  },
  {
   "cell_type": "code",
   "execution_count": 144,
   "metadata": {},
   "outputs": [
    {
     "data": {
      "text/plain": [
       "array([-2.99999994,  3.99999992])"
      ]
     },
     "execution_count": 144,
     "metadata": {},
     "output_type": "execute_result"
    }
   ],
   "source": [
    "# 학습률이 너무 작은 예 : lr=1e-10 : 거의 갱신되지 않고 끝남\n",
    "init_x = np.array([-3.0, 4.0])\n",
    "gradient_descent(function_2, init_x=init_x, lr=1e-10, step_num=100)"
   ]
  },
  {
   "cell_type": "markdown",
   "metadata": {},
   "source": [
    "### 4.4.2 신경망에서의 기울기"
   ]
  },
  {
   "cell_type": "code",
   "execution_count": 145,
   "metadata": {},
   "outputs": [],
   "source": [
    "# 교재 소스 코드: gradient_simplenet.py\n",
    "# 신경망에 대한 기울기를 구하는 코드\n",
    "\n",
    "import sys, os\n",
    "sys.path.append(os.pardir)  # 부모 디렉터리의 파일을 가져올 수 있도록 설정\n",
    "import numpy as np\n",
    "from common.functions import softmax, cross_entropy_error\n",
    "from common.gradient import numerical_gradient\n",
    "\n",
    "\n",
    "class simpleNet:\n",
    "    def __init__(self):\n",
    "        self.W = np.random.randn(2,3) # 정규분포로 초기화\n",
    "\n",
    "    def predict(self, x):             #예측 수행\n",
    "        return np.dot(x, self.W)\n",
    "\n",
    "    def loss(self, x, t):             #손실 함수의 값 구하기  #x는 입력 데이터, t는 정답 레이블\n",
    "        z = self.predict(x)\n",
    "        y = softmax(z)\n",
    "        loss = cross_entropy_error(y, t)\n",
    "\n",
    "        return loss"
   ]
  },
  {
   "cell_type": "code",
   "execution_count": 146,
   "metadata": {},
   "outputs": [
    {
     "name": "stdout",
     "output_type": "stream",
     "text": [
      "[[ 0.37566871 -0.24893338 -0.36570547]\n",
      " [ 0.11852927  0.17094041  1.76090337]]\n"
     ]
    }
   ],
   "source": [
    "net = simpleNet()\n",
    "print(net.W) # 가중치 매개변수"
   ]
  },
  {
   "cell_type": "code",
   "execution_count": 147,
   "metadata": {},
   "outputs": [
    {
     "name": "stdout",
     "output_type": "stream",
     "text": [
      "[0.33207757 0.00448634 1.36538975]\n"
     ]
    }
   ],
   "source": [
    "x = np.array([0.6, 0.9])  #0.6, 0.9 입력값 주고 predict 수행\n",
    "p = net.predict(x)\n",
    "print(p)"
   ]
  },
  {
   "cell_type": "code",
   "execution_count": 148,
   "metadata": {},
   "outputs": [
    {
     "data": {
      "text/plain": [
       "2"
      ]
     },
     "execution_count": 148,
     "metadata": {},
     "output_type": "execute_result"
    }
   ],
   "source": [
    "np.argmax(p) # 최대값의 인덱스"
   ]
  },
  {
   "cell_type": "code",
   "execution_count": 149,
   "metadata": {},
   "outputs": [
    {
     "data": {
      "text/plain": [
       "0.4776341049885464"
      ]
     },
     "execution_count": 149,
     "metadata": {},
     "output_type": "execute_result"
    }
   ],
   "source": [
    "t = np.array([0, 0, 1]) # 정답 레이블\n",
    "net.loss(x,t)"
   ]
  },
  {
   "cell_type": "code",
   "execution_count": 150,
   "metadata": {},
   "outputs": [
    {
     "name": "stdout",
     "output_type": "stream",
     "text": [
      "[[ 0.05156282  0.41826263 -0.46982545]\n",
      " [ 0.07734423  0.62739394 -0.70473818]]\n"
     ]
    }
   ],
   "source": [
    "#최종 구현, gradient_simplenet.py 뒷부분\n",
    "x = np.array([0.6, 0.9])\n",
    "t = np.array([0, 0, 1])\n",
    "\n",
    "net = simpleNet()\n",
    "\n",
    "f = lambda w: net.loss(x, t)\n",
    "dW = numerical_gradient(f, net.W) #편미분값 출력 #loss 함수 호출됨\n",
    "\n",
    "print(dW)"
   ]
  },
  {
   "cell_type": "markdown",
   "metadata": {
    "collapsed": true
   },
   "source": [
    "w11: 손실함수를 줄이려면 양의 방향으로 갱신해야 함\n",
    "w23: 손실함수를 줄이려면 음의 방향으로 갱신해야 함\n",
    "-> w23이 더 중요한 가중치인 것을 알 수 있음"
   ]
  },
  {
   "cell_type": "markdown",
   "metadata": {},
   "source": [
    "## 4.5 학습 알고리즘 구현하기\n"
   ]
  },
  {
   "cell_type": "markdown",
   "metadata": {},
   "source": [
    "### 4.5.1 2층 신경망 클래스 구현하기\n",
    "2층 신경망을 하나의 클래스로 구현: TwoLayerNet"
   ]
  },
  {
   "cell_type": "code",
   "execution_count": 155,
   "metadata": {},
   "outputs": [],
   "source": [
    "# 교재 소스 코드: two_layer_net.py \n",
    "import sys, os\n",
    "sys.path.append(os.pardir)  # 부모 디렉터리의 파일을 가져올 수 있도록 설정\n",
    "from common.functions import *\n",
    "from common.gradient import numerical_gradient\n",
    "\n",
    "class TwoLayerNet:\n",
    "\n",
    "    def __init__(self, input_size, hidden_size, output_size, weight_init_std=0.01):\n",
    "        # 가중치 초기화\n",
    "        self.params = {}       #신경망의 매개변수 저장 딕셔너리  \n",
    "        self.params['W1'] = weight_init_std * np.random.randn(input_size, hidden_size)  #1번째 층의 가중치\n",
    "        self.params['b1'] = np.zeros(hidden_size)                                       #1번째 층의 편향\n",
    "        self.params['W2'] = weight_init_std * np.random.randn(hidden_size, output_size) #2번째 층의 가중치\n",
    "        self.params['b2'] = np.zeros(output_size)   #bias 값 0으로 초기화 (조정 x)      #2번째 층의 편향\n",
    "\n",
    "    def predict(self, x):   #순전파로 추론하는 과정\n",
    "        W1, W2 = self.params['W1'], self.params['W2']\n",
    "        b1, b2 = self.params['b1'], self.params['b2']\n",
    "    \n",
    "        a1 = np.dot(x, W1) + b1     #1번째 층\n",
    "        z1 = sigmoid(a1)        \n",
    "        a2 = np.dot(z1, W2) + b2    #2번째 층\n",
    "        y = softmax(a2)             #지분 처리\n",
    "        \n",
    "        return y\n",
    "        \n",
    "    # x : 입력 데이터, t : 정답 레이블\n",
    "    def loss(self, x, t):\n",
    "        y = self.predict(x)\n",
    "        \n",
    "        return cross_entropy_error(y, t)\n",
    "    \n",
    "    #추론한 것 중에 값이 큰 것을 알아내는 과정\n",
    "    def accuracy(self, x, t):\n",
    "        y = self.predict(x)\n",
    "        y = np.argmax(y, axis=1)\n",
    "        t = np.argmax(t, axis=1)\n",
    "        \n",
    "        accuracy = np.sum(y == t) / float(x.shape[0])   #y==t인 횟수 합해 전체 batch 행의 개수로 나누면 정확도\n",
    "        return accuracy\n",
    "        \n",
    "    # x : 입력 데이터, t : 정답 레이블\n",
    "    def numerical_gradient(self, x, t):   #loss function에 대해 수치 미분한 값\n",
    "        loss_W = lambda W: self.loss(x, t)   #실제로는 loss\n",
    "        \n",
    "        grads = {}\n",
    "        grads['W1'] = numerical_gradient(loss_W, self.params['W1'])  #w1 기준으로 미분\n",
    "        grads['b1'] = numerical_gradient(loss_W, self.params['b1'])  #b1 기준으로 미분\n",
    "        grads['W2'] = numerical_gradient(loss_W, self.params['W2'])  #w2 기준으로 미분\n",
    "        grads['b2'] = numerical_gradient(loss_W, self.params['b2'])  #b2 기준으로 미분\n",
    "        \n",
    "        return grads\n",
    "    \n",
    "    #5장의 기법\n",
    "    def gradient(self, x, t):\n",
    "        W1, W2 = self.params['W1'], self.params['W2']\n",
    "        b1, b2 = self.params['b1'], self.params['b2']\n",
    "        grads = {}   #갱신된 기울기 값을 저장하는 딕셔너리\n",
    "        \n",
    "        batch_num = x.shape[0] \n",
    "        \n",
    "        # forward: 전개\n",
    "        a1 = np.dot(x, W1) + b1\n",
    "        z1 = sigmoid(a1)   #히든 레이어\n",
    "        a2 = np.dot(z1, W2) + b2\n",
    "        y = softmax(a2)    #츨력 레이어\n",
    "        \n",
    "        # backward: 아직은 배우지 않은 backward 값 이용해 미분\n",
    "        dy = (y - t) / batch_num\n",
    "        grads['W2'] = np.dot(z1.T, dy)\n",
    "        grads['b2'] = np.sum(dy, axis=0)\n",
    "        \n",
    "        da1 = np.dot(dy, W2.T)\n",
    "        dz1 = sigmoid_grad(a1) * da1\n",
    "        grads['W1'] = np.dot(x.T, dz1)\n",
    "        grads['b1'] = np.sum(dz1, axis=0)\n",
    "\n",
    "        return grads  #기울기 갱신한 것을 리턴"
   ]
  },
  {
   "cell_type": "code",
   "execution_count": 156,
   "metadata": {},
   "outputs": [
    {
     "name": "stdout",
     "output_type": "stream",
     "text": [
      "(784, 100)\n",
      "(100,)\n",
      "(100, 10)\n",
      "(10,)\n"
     ]
    }
   ],
   "source": [
    "# 2층 신경망 클래스 구현 예시\n",
    "net = TwoLayerNet(input_size=784, hidden_size=100, output_size=10)\n",
    "print(net.params['W1'].shape) # (784, 100)\n",
    "print(net.params['b1'].shape) # (100,)\n",
    "print(net.params['W2'].shape) # (100, 10)\n",
    "print(net.params['b2'].shape) # (10,)"
   ]
  },
  {
   "cell_type": "code",
   "execution_count": 157,
   "metadata": {},
   "outputs": [
    {
     "name": "stdout",
     "output_type": "stream",
     "text": [
      "[[0.09469095 0.10732011 0.1032402  0.10217361 0.09061714 0.09882115\n",
      "  0.10389184 0.09485593 0.09954793 0.10484113]\n",
      " [0.09432156 0.1076174  0.10323438 0.10179511 0.09068383 0.09857573\n",
      "  0.10390768 0.09476709 0.09940846 0.10568876]\n",
      " [0.09479489 0.10746322 0.1034264  0.10171033 0.09052125 0.09882006\n",
      "  0.10390681 0.094596   0.09927181 0.10548924]\n",
      " [0.09434453 0.10773229 0.10298614 0.10202065 0.0904096  0.09879052\n",
      "  0.10456269 0.09461779 0.09927414 0.10526163]\n",
      " [0.09455852 0.10741859 0.10307086 0.10215174 0.09031983 0.09903662\n",
      "  0.10399643 0.09491667 0.09933859 0.10519215]\n",
      " [0.09448244 0.10779409 0.10331563 0.10180675 0.09059428 0.09862383\n",
      "  0.10374143 0.09464835 0.09953507 0.10545813]\n",
      " [0.09474039 0.107815   0.10350799 0.10192623 0.09043557 0.09850692\n",
      "  0.10384437 0.09490878 0.09925827 0.10505648]\n",
      " [0.09497594 0.10742773 0.10343379 0.10182574 0.0905549  0.09882728\n",
      "  0.10373999 0.0947256  0.09916832 0.10532072]\n",
      " [0.09466968 0.10753118 0.10320453 0.10195788 0.09042758 0.09877545\n",
      "  0.10422288 0.09462111 0.09930893 0.10528077]\n",
      " [0.09442028 0.10711191 0.10320381 0.10227625 0.09076813 0.09868383\n",
      "  0.104581   0.09447139 0.09924282 0.10524058]\n",
      " [0.09450656 0.10751987 0.10341401 0.10171164 0.09066469 0.09894349\n",
      "  0.10413458 0.09465352 0.0991814  0.10527024]\n",
      " [0.09480043 0.10740462 0.10325696 0.10201951 0.09051528 0.09887885\n",
      "  0.10392671 0.09478828 0.09955147 0.10485788]\n",
      " [0.09480501 0.10721534 0.10334328 0.10192449 0.09086452 0.09882563\n",
      "  0.10403335 0.09441862 0.09945085 0.10511891]\n",
      " [0.09489628 0.10732941 0.10327706 0.10168716 0.09081014 0.09874671\n",
      "  0.10414745 0.09469243 0.09904144 0.10537193]\n",
      " [0.09427868 0.10747267 0.10333881 0.10168825 0.09048491 0.0988801\n",
      "  0.10451549 0.09468688 0.09930648 0.10534772]\n",
      " [0.09460538 0.10711989 0.10324514 0.10213614 0.09034908 0.09877563\n",
      "  0.10442743 0.09461813 0.09938125 0.10534194]\n",
      " [0.09464633 0.10739104 0.1034348  0.10184619 0.09064593 0.09870651\n",
      "  0.10413799 0.09443795 0.09941828 0.10533496]\n",
      " [0.09465091 0.10752621 0.10314834 0.1018696  0.09039127 0.09853254\n",
      "  0.10423349 0.09450749 0.099686   0.10545415]\n",
      " [0.09470409 0.10761912 0.10343151 0.10170891 0.0907261  0.09879707\n",
      "  0.10402988 0.09447766 0.09896242 0.10554323]\n",
      " [0.09442545 0.10725005 0.10331755 0.10195057 0.09084039 0.09867017\n",
      "  0.1042172  0.09456309 0.09913935 0.10562618]\n",
      " [0.09453292 0.10780881 0.10306583 0.1017779  0.09045065 0.09858727\n",
      "  0.10434582 0.09453151 0.09939846 0.10550084]\n",
      " [0.09451442 0.10738931 0.10309139 0.10201477 0.09047098 0.09889397\n",
      "  0.10476348 0.09465319 0.09937307 0.10483543]\n",
      " [0.09427183 0.10745025 0.10352057 0.10198223 0.09044831 0.09873445\n",
      "  0.10420575 0.09469631 0.09928063 0.10540967]\n",
      " [0.09471407 0.10766383 0.1033401  0.10190043 0.09064627 0.09878833\n",
      "  0.10413459 0.09436707 0.09911246 0.10533285]\n",
      " [0.09465975 0.10758816 0.10339092 0.1019716  0.09046104 0.09877359\n",
      "  0.10402629 0.09476698 0.09911009 0.10525158]\n",
      " [0.0945761  0.1075891  0.10343293 0.10170444 0.09042535 0.09867919\n",
      "  0.10421585 0.09464031 0.09915274 0.10558399]\n",
      " [0.0947766  0.10732507 0.10337605 0.10170724 0.09076544 0.09906568\n",
      "  0.10374185 0.09449088 0.09941994 0.10533126]\n",
      " [0.09475623 0.10719952 0.10343798 0.10203618 0.09059842 0.0988531\n",
      "  0.10413798 0.09445681 0.09948926 0.10503453]\n",
      " [0.09449973 0.10728492 0.10347852 0.10170846 0.09071567 0.09859557\n",
      "  0.1045989  0.09453239 0.09951316 0.10507268]\n",
      " [0.09419379 0.10745827 0.1032178  0.10191911 0.09054527 0.09869549\n",
      "  0.10462438 0.09484146 0.09914429 0.10536013]\n",
      " [0.09473598 0.10754526 0.10335752 0.1019419  0.09085391 0.0989262\n",
      "  0.1039247  0.09482825 0.09904747 0.10483882]\n",
      " [0.09447444 0.10736576 0.10343721 0.10164061 0.09080688 0.09866243\n",
      "  0.10430001 0.09459367 0.0995197  0.10519928]\n",
      " [0.09473271 0.10743007 0.10332487 0.10146108 0.09052191 0.09869589\n",
      "  0.10441726 0.09476845 0.09930479 0.10534296]\n",
      " [0.09472395 0.10747549 0.10328376 0.10192103 0.09021886 0.09876333\n",
      "  0.10431624 0.09488962 0.09921165 0.10519607]\n",
      " [0.09445051 0.10733254 0.10356278 0.10200682 0.09070191 0.09861332\n",
      "  0.10446607 0.09445318 0.0992494  0.10516346]\n",
      " [0.09467678 0.10759092 0.10298097 0.10170855 0.09046216 0.09879261\n",
      "  0.10393427 0.09464835 0.09912472 0.10608067]\n",
      " [0.09467821 0.10737656 0.10336115 0.10199721 0.09059087 0.09867899\n",
      "  0.10428767 0.09460503 0.09927874 0.10514557]\n",
      " [0.09467506 0.10784686 0.10375608 0.1016186  0.09040912 0.09856609\n",
      "  0.10401506 0.094458   0.0993854  0.10526974]\n",
      " [0.09476751 0.10750376 0.10339726 0.10230162 0.09053596 0.09892336\n",
      "  0.10387447 0.09442963 0.09934836 0.10491807]\n",
      " [0.09464119 0.10761336 0.10344652 0.10187753 0.09032885 0.09876556\n",
      "  0.104308   0.09446095 0.09911177 0.10544627]\n",
      " [0.09472752 0.10747291 0.10293437 0.10184781 0.09035078 0.09878056\n",
      "  0.10463285 0.09453672 0.09944393 0.10527255]\n",
      " [0.0947195  0.10723385 0.10322074 0.10212146 0.09051615 0.09896194\n",
      "  0.10395435 0.09465958 0.09945176 0.10516066]\n",
      " [0.09449211 0.10744981 0.10342695 0.1017559  0.09051648 0.09847167\n",
      "  0.10428041 0.09469712 0.09901551 0.10589405]\n",
      " [0.0946981  0.10739858 0.10315877 0.10168808 0.09074069 0.09886685\n",
      "  0.10434123 0.09464184 0.0992608  0.10520505]\n",
      " [0.09446578 0.10770099 0.10330992 0.10153812 0.09068112 0.09867197\n",
      "  0.10434788 0.09481029 0.09930344 0.1051705 ]\n",
      " [0.09459871 0.1073865  0.10338296 0.10195855 0.09084727 0.09892493\n",
      "  0.10412665 0.0945019  0.09910607 0.10516647]\n",
      " [0.09454517 0.10770043 0.10331045 0.10171167 0.09023249 0.09871084\n",
      "  0.10448209 0.09444158 0.09937163 0.10549366]\n",
      " [0.09472297 0.10759343 0.10375063 0.10212364 0.09062628 0.09862323\n",
      "  0.10407128 0.09478572 0.09904022 0.10466258]\n",
      " [0.0948348  0.10759268 0.10360471 0.10218757 0.09017245 0.09880226\n",
      "  0.10387684 0.09457127 0.09909095 0.10526647]\n",
      " [0.0944609  0.10745914 0.10323591 0.10203705 0.09052293 0.0988326\n",
      "  0.10401562 0.09489793 0.0995264  0.10501153]\n",
      " [0.09466573 0.10740301 0.10314506 0.10152316 0.09077242 0.0987643\n",
      "  0.10409602 0.09477816 0.09938532 0.1054668 ]\n",
      " [0.09453815 0.10748284 0.10300135 0.10219561 0.09039181 0.09874917\n",
      "  0.10451662 0.09446173 0.0993203  0.10534241]\n",
      " [0.09438002 0.1078252  0.10312243 0.10206183 0.09084    0.09855298\n",
      "  0.10399922 0.09454677 0.09922942 0.10544214]\n",
      " [0.09453182 0.1073775  0.10357284 0.10195065 0.09054325 0.09845053\n",
      "  0.10420994 0.09459336 0.09942694 0.10534316]\n",
      " [0.09412983 0.10751129 0.10334938 0.1018738  0.09050904 0.09858011\n",
      "  0.10448757 0.09471628 0.09929194 0.10555077]\n",
      " [0.09434862 0.10762892 0.10339829 0.10222043 0.09034857 0.09873096\n",
      "  0.10441022 0.09448489 0.09920952 0.10521959]\n",
      " [0.09468189 0.10750585 0.1030833  0.10192875 0.09033486 0.0989717\n",
      "  0.10401832 0.0947448  0.09914656 0.10558398]\n",
      " [0.09428888 0.10775835 0.10351472 0.10180378 0.09055879 0.09866008\n",
      "  0.10406858 0.09453284 0.09949447 0.1053195 ]\n",
      " [0.09462526 0.10749118 0.10350784 0.10191898 0.09050415 0.09880896\n",
      "  0.10388956 0.09477273 0.09931995 0.10516139]\n",
      " [0.09475521 0.10755511 0.1033769  0.10156982 0.09075864 0.09834235\n",
      "  0.10460467 0.09457498 0.09931054 0.10515176]\n",
      " [0.09495304 0.10712075 0.10339249 0.10173286 0.09051033 0.09863029\n",
      "  0.10435553 0.09497841 0.09927173 0.10505458]\n",
      " [0.09464218 0.10776671 0.10356982 0.10204866 0.09054391 0.09862769\n",
      "  0.10407434 0.09433506 0.09906636 0.10532525]\n",
      " [0.09462293 0.10770921 0.10343573 0.10157087 0.09046845 0.09867617\n",
      "  0.10425519 0.09468004 0.09917041 0.10541099]\n",
      " [0.09455321 0.10728189 0.10331064 0.10186118 0.09056408 0.09906129\n",
      "  0.10451145 0.0946403  0.09898339 0.10523257]\n",
      " [0.09436451 0.10762344 0.10348647 0.10183471 0.09060086 0.09882829\n",
      "  0.10404811 0.09472383 0.09928686 0.10520291]\n",
      " [0.09463368 0.10737443 0.1034003  0.1017595  0.09060018 0.09860294\n",
      "  0.10429057 0.09447523 0.09925449 0.10560868]\n",
      " [0.09440741 0.10737505 0.10323464 0.10190104 0.09049713 0.09889792\n",
      "  0.10420195 0.0948452  0.09933961 0.10530007]\n",
      " [0.09473198 0.10731709 0.10328223 0.10167795 0.09083646 0.09893467\n",
      "  0.10361452 0.09474545 0.09915244 0.10570721]\n",
      " [0.09415969 0.10754176 0.10314347 0.10178365 0.09077482 0.09849144\n",
      "  0.10483277 0.09458247 0.09930321 0.10538672]\n",
      " [0.09494218 0.10734151 0.1032716  0.1016785  0.09043519 0.09904355\n",
      "  0.10385524 0.09447776 0.09940638 0.10554809]\n",
      " [0.09462731 0.10737877 0.10367114 0.1016753  0.09064243 0.0985558\n",
      "  0.10413112 0.0944344  0.09945085 0.10543289]\n",
      " [0.09470377 0.10767188 0.10339477 0.10173649 0.09043564 0.0988032\n",
      "  0.10404699 0.09464925 0.09922484 0.10533316]\n",
      " [0.09445066 0.10728    0.10350796 0.10207163 0.09066206 0.09904303\n",
      "  0.10384909 0.09458991 0.09950477 0.10504089]\n",
      " [0.09438086 0.10783976 0.10351152 0.10153977 0.09041069 0.09905054\n",
      "  0.1039049  0.09460637 0.09943084 0.10532476]\n",
      " [0.09423276 0.10786558 0.10324948 0.10172916 0.09055493 0.09891108\n",
      "  0.10399981 0.09500075 0.09898094 0.10547551]\n",
      " [0.09473748 0.10740834 0.10345556 0.10191598 0.09058401 0.09877701\n",
      "  0.10434996 0.09432067 0.09889641 0.10555456]\n",
      " [0.09457846 0.10745718 0.10319218 0.10165548 0.09026276 0.09888002\n",
      "  0.10432411 0.09480925 0.09923764 0.10560291]\n",
      " [0.0947662  0.10723569 0.10335514 0.10170512 0.09052742 0.09872884\n",
      "  0.10394793 0.09483392 0.09945002 0.10544973]\n",
      " [0.09478367 0.10720364 0.10299283 0.10203233 0.09084789 0.09898976\n",
      "  0.10383507 0.09486404 0.09912907 0.10532171]\n",
      " [0.09445404 0.10750272 0.10348662 0.10180358 0.09060051 0.09888899\n",
      "  0.10404403 0.0946503  0.09921958 0.10534962]\n",
      " [0.09457472 0.10730312 0.10325559 0.10196381 0.09069744 0.09858023\n",
      "  0.10412584 0.09453552 0.09948676 0.10547697]\n",
      " [0.09461003 0.10760743 0.10310361 0.10190882 0.09058763 0.09894193\n",
      "  0.10407855 0.09464791 0.09935198 0.1051621 ]\n",
      " [0.09463203 0.10735553 0.10347968 0.10196204 0.09077151 0.09870904\n",
      "  0.1040169  0.09455299 0.09933259 0.1051877 ]\n",
      " [0.09465247 0.10753142 0.10329178 0.10198566 0.09065025 0.09853088\n",
      "  0.10391152 0.09441353 0.09950905 0.10552344]\n",
      " [0.09462932 0.10759158 0.1031519  0.10201333 0.09048231 0.09871645\n",
      "  0.10436753 0.09466009 0.09933777 0.10504972]\n",
      " [0.09459746 0.10736083 0.10321316 0.10166604 0.0907379  0.09897981\n",
      "  0.10417512 0.09466957 0.09926972 0.10533038]\n",
      " [0.09435769 0.1076185  0.1035161  0.10148643 0.09058474 0.09908986\n",
      "  0.10406145 0.09451954 0.09920672 0.10555898]\n",
      " [0.09460144 0.10728331 0.10345457 0.10172505 0.09060578 0.09880905\n",
      "  0.10376705 0.09458632 0.09928256 0.10588487]\n",
      " [0.09450827 0.10724667 0.10339846 0.10222031 0.09047661 0.09916123\n",
      "  0.10402367 0.09456505 0.0994366  0.10496313]\n",
      " [0.09422171 0.10734255 0.10304039 0.10180644 0.09074285 0.0986687\n",
      "  0.10450072 0.09508282 0.0993436  0.1052502 ]\n",
      " [0.0943044  0.10737133 0.10314302 0.10206732 0.09054225 0.0989626\n",
      "  0.10415891 0.09484402 0.09920679 0.10539937]\n",
      " [0.09479318 0.10730743 0.10314806 0.10165077 0.09083661 0.098868\n",
      "  0.10412101 0.09497568 0.09916124 0.10513802]\n",
      " [0.09473121 0.10757591 0.10328793 0.10191279 0.09054576 0.09895225\n",
      "  0.1040672  0.09471696 0.09905272 0.10515726]\n",
      " [0.09475966 0.10720554 0.10345787 0.10174308 0.09032575 0.09903912\n",
      "  0.10437362 0.09469388 0.09943822 0.10496326]\n",
      " [0.09449295 0.10744181 0.10324993 0.10197181 0.09070009 0.0986872\n",
      "  0.10387254 0.09467913 0.09934322 0.10556131]\n",
      " [0.09455671 0.1072551  0.1032988  0.10215568 0.0903571  0.09896237\n",
      "  0.10435435 0.09463402 0.09932337 0.1051025 ]\n",
      " [0.09485277 0.10729045 0.10307452 0.10190142 0.09050612 0.09897656\n",
      "  0.1044917  0.09435106 0.0992775  0.10527791]\n",
      " [0.09437773 0.10765406 0.10366196 0.10191822 0.09062128 0.09903468\n",
      "  0.10377322 0.09445421 0.09902295 0.10548169]\n",
      " [0.094796   0.10750474 0.10332068 0.10169816 0.09040573 0.09891238\n",
      "  0.1038266  0.09486363 0.09935354 0.10531854]\n",
      " [0.09459128 0.10754112 0.10332551 0.10189094 0.09046392 0.09879681\n",
      "  0.10426176 0.09441358 0.09937458 0.1053405 ]]\n"
     ]
    }
   ],
   "source": [
    "# predict 예시\n",
    "x = np.random.rand(100, 784) # 더미 입력 데이터(100장)\n",
    "y = net.predict(x)\n",
    "print(y)"
   ]
  },
  {
   "cell_type": "code",
   "execution_count": 154,
   "metadata": {},
   "outputs": [
    {
     "name": "stdout",
     "output_type": "stream",
     "text": [
      "(784, 100)\n",
      "(100,)\n",
      "(100, 10)\n",
      "(10,)\n"
     ]
    }
   ],
   "source": [
    "x = np.random.rand(100, 784) #더미 입력 데이터(100장)\n",
    "t = np.random.rand(100, 10)  #더미 정답 레이블(100장)\n",
    "\n",
    "grads = net.numerical_gradient(x, t) #기울기 계산\n",
    "\n",
    "print(grads['W1'].shape) # (784, 100)\n",
    "print(grads['b1'].shape) # (100,)\n",
    "print(grads['W2'].shape) # (100, 10)\n",
    "print(grads['b2'].shape) # (10,)"
   ]
  },
  {
   "cell_type": "markdown",
   "metadata": {},
   "source": [
    "### 4.5.2 미니배치 학습 구현하기\n"
   ]
  },
  {
   "cell_type": "code",
   "execution_count": 158,
   "metadata": {},
   "outputs": [
    {
     "name": "stdout",
     "output_type": "stream",
     "text": [
      "train acc, test acc | 0.11236666666666667, 0.1135\n",
      "train acc, test acc | 0.7757, 0.7815\n",
      "train acc, test acc | 0.8767166666666667, 0.8815\n",
      "train acc, test acc | 0.8993333333333333, 0.9053\n",
      "train acc, test acc | 0.9071333333333333, 0.9093\n",
      "train acc, test acc | 0.9130166666666667, 0.9165\n",
      "train acc, test acc | 0.9187833333333333, 0.9217\n",
      "train acc, test acc | 0.92295, 0.9256\n",
      "train acc, test acc | 0.9264833333333333, 0.9291\n",
      "train acc, test acc | 0.9297666666666666, 0.9311\n",
      "train acc, test acc | 0.9336333333333333, 0.9337\n",
      "train acc, test acc | 0.9364, 0.937\n",
      "train acc, test acc | 0.9389833333333333, 0.9385\n",
      "train acc, test acc | 0.9411666666666667, 0.9407\n",
      "train acc, test acc | 0.9425833333333333, 0.9427\n",
      "train acc, test acc | 0.9450166666666666, 0.9446\n",
      "train acc, test acc | 0.9469333333333333, 0.9453\n"
     ]
    }
   ],
   "source": [
    "# 교재 소스 코드: train_neuralnet.py\n",
    "\n",
    "import sys, os\n",
    "sys.path.append(os.pardir)  # 부모 디렉터리의 파일을 가져올 수 있도록 설정\n",
    "import numpy as np\n",
    "import matplotlib.pyplot as plt\n",
    "from dataset.mnist import load_mnist\n",
    "from two_layer_net import TwoLayerNet\n",
    "\n",
    "# 데이터 읽기\n",
    "(x_train, t_train), (x_test, t_test) = load_mnist(normalize=True, one_hot_label=True)\n",
    "\n",
    "network = TwoLayerNet(input_size=784, hidden_size=50, output_size=10)\n",
    "\n",
    "# 하이퍼파라미터\n",
    "iters_num = 10000  # 반복 횟수를 적절히 설정한다.\n",
    "train_size = x_train.shape[0]\n",
    "batch_size = 100   # 미니배치 크기\n",
    "learning_rate = 0.1\n",
    "\n",
    "train_loss_list = []  #학습 에러 그리기\n",
    "train_acc_list = []   #학습 데이터 정확도 그리기\n",
    "test_acc_list = []    #테스트 데이터 정확도 그리기\n",
    "\n",
    "# 1에폭당 반복 수\n",
    "iter_per_epoch = max(train_size / batch_size, 1)\n",
    "\n",
    "for i in range(iters_num):\n",
    "    # 미니배치 획득\n",
    "    batch_mask = np.random.choice(train_size, batch_size)\n",
    "    x_batch = x_train[batch_mask]\n",
    "    t_batch = t_train[batch_mask]\n",
    "    \n",
    "    # 기울기 계산\n",
    "    #grad = network.numerical_gradient(x_batch, t_batch)\n",
    "    grad = network.gradient(x_batch, t_batch)\n",
    "    \n",
    "    # 매개변수 갱신\n",
    "    for key in ('W1', 'b1', 'W2', 'b2'):\n",
    "        network.params[key] -= learning_rate * grad[key]  #기울기 값이 작아지는 방향으로 갱신\n",
    "    \n",
    "    # 학습 경과 기록\n",
    "    loss = network.loss(x_batch, t_batch)  #loss 한 번 더 계산\n",
    "    train_loss_list.append(loss)           #따로 빈 list에 추가\n",
    "\n",
    "    # 1에폭당 정확도 계산 (600번마다 한 번씩)\n",
    "    if i % iter_per_epoch == 0:\n",
    "        train_acc = network.accuracy(x_train, t_train)\n",
    "        test_acc = network.accuracy(x_test, t_test)         #이 지표로 학습하진 x\n",
    "        train_acc_list.append(train_acc)\n",
    "        test_acc_list.append(test_acc)\n",
    "        print(\"train acc, test acc | \" + str(train_acc) + \", \" + str(test_acc))"
   ]
  },
  {
   "cell_type": "markdown",
   "metadata": {},
   "source": [
    "### 4.5.3 시험 데이터로 평가하기"
   ]
  },
  {
   "cell_type": "markdown",
   "metadata": {},
   "source": [
    "그래프 그리기"
   ]
  },
  {
   "cell_type": "code",
   "execution_count": 159,
   "metadata": {},
   "outputs": [
    {
     "data": {
      "image/png": "[encoded data removed]",
      "text/plain": [
       "<Figure size 432x288 with 1 Axes>"
      ]
     },
     "metadata": {
      "needs_background": "light"
     },
     "output_type": "display_data"
    }
   ],
   "source": [
    "# 그림 4-12 훈련 데이터와 시험 데이터에 대한 정확도 추이\n",
    "markers = {'train': 'o', 'test': 's'}\n",
    "x = np.arange(len(train_acc_list))\n",
    "plt.plot(x, train_acc_list, label='train acc')\n",
    "plt.plot(x, test_acc_list, label='test acc', linestyle='--')\n",
    "plt.xlabel(\"epochs\")\n",
    "plt.ylabel(\"accuracy\")\n",
    "plt.ylim(0, 1.0)\n",
    "plt.legend(loc='lower right')\n",
    "plt.show()"
   ]
  },
  {
   "cell_type": "code",
   "execution_count": null,
   "metadata": {},
   "outputs": [],
   "source": []
  }
 ],
 "metadata": {
  "anaconda-cloud": {},
  "kernelspec": {
   "display_name": "Python 3 (ipykernel)",
   "language": "python",
   "name": "python3"
  },
  "language_info": {
   "codemirror_mode": {
    "name": "ipython",
    "version": 3
   },
   "file_extension": ".py",
   "mimetype": "text/x-python",
   "name": "python",
   "nbconvert_exporter": "python",
   "pygments_lexer": "ipython3",
   "version": "3.9.7"
  }
 },
 "nbformat": 4,
 "nbformat_minor": 1
}
